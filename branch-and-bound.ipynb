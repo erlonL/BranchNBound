{
 "cells": [
  {
   "cell_type": "code",
   "execution_count": 2,
   "metadata": {
    "metadata": {}
   },
   "outputs": [],
   "source": [
    "from mip import (CBC, CONTINUOUS, MAXIMIZE, Model, xsum, OptimizationStatus)\n",
    "import numpy as np\n",
    "from pandas import DataFrame"
   ]
  },
  {
   "cell_type": "code",
   "execution_count": 3,
   "metadata": {},
   "outputs": [],
   "source": [
    "def readFile(filename: str):\n",
    "    FILE = open(filename, \"r\")\n",
    "    lines = FILE.readlines()\n",
    "    \n",
    "    # separa os arrays em '\\n'\n",
    "    lines = [lines.split() for lines in lines]\n",
    "\n",
    "    FILE.close()\n",
    "    # número de variáveis\n",
    "    # número de restrições\n",
    "    num_vars, num_res = int(lines[0][0]), int(lines[0][1])\n",
    "\n",
    "    lines = lines[1:]\n",
    "\n",
    "    # coeficientes da função objetivo\n",
    "    coef_fo = lines[0]\n",
    "    coef_fo = [float(i) for i in coef_fo]\n",
    "\n",
    "    # coeficientes das restrições\n",
    "    coef_restantes = lines[1:]\n",
    "    coef_restantes = [[float(i) for i in coef_restantes[j]] for j in range(num_res)]\n",
    "\n",
    "    coef_left = [coef_restantes[j][:-1] for j in range(num_res)]\n",
    "\n",
    "    coef_right = [coef_restantes[j][-1] for j in range(num_res)]\n",
    "\n",
    "\n",
    "    m = Model(sense=MAXIMIZE, solver_name=CBC)\n",
    "\n",
    "    # variáveis de decisão\n",
    "    x = [m.add_var(var_type=CONTINUOUS, lb=0.0, ub=1.0, name=\"x_\"+str(i)) for i in range(num_vars)]\n",
    "\n",
    "    # função objetivo\n",
    "    m.objective = xsum(coef_fo[i] * x[i] for i in range(num_vars))\n",
    "\n",
    "      #cria as restrições\n",
    "      #model += xsum(coefientes[i]*x[i] for i in range(num_vars)) <= coefientes[-1] \n",
    "\n",
    "    # restrições\n",
    "    for i in range(num_res):\n",
    "        m += xsum(coef_left[i][j] * x[j] for j in range(num_vars)) <= coef_right[i]\n",
    "    # 'silencia' o solver\n",
    "    m.verbose = 0\n",
    "\n",
    "    return m"
   ]
  },
  {
   "cell_type": "code",
   "execution_count": 4,
   "metadata": {},
   "outputs": [],
   "source": [
    "class No:\n",
    "    def __init__ (self, modelo : Model):\n",
    "        self.modelo = modelo\n",
    "\n",
    "        #otimiza o modelo assim que cria o nó\n",
    "        self.modelo.optimize()\n",
    "        \n",
    "        #salva o valor da função objetivo\n",
    "        self.Z = self.modelo.objective_value"
   ]
  },
  {
   "cell_type": "code",
   "execution_count": 5,
   "metadata": {
    "metadata": {}
   },
   "outputs": [],
   "source": [
    "def poda_integralidade (modelo: Model):\n",
    "    # Se todas as variáveis são inteiras, o nó é viável\n",
    "    # logo, deve ser podado\n",
    "    for var in modelo.vars:\n",
    "        if var.x % 1 != 0:\n",
    "            return False\n",
    "    return True\n",
    "# poda por limitante, analisa o valor da função objetivo\n",
    "def poda_limitante (lim_inf: float, Z: int):\n",
    "    # Se o valor da função objetivo for menor ou igual ao limitante inferior,\n",
    "    # qualquer nó abaixo incluindo o próprio nó é descartado,\n",
    "    # pois já há uma solução melhor encontrada\n",
    "    if Z <= lim_inf:\n",
    "        return True\n",
    "    else:\n",
    "        return False\n",
    "\n",
    "# poda por inviabilidade, analisa o status do modelo\n",
    "def poda_inviabilidade (modelo: Model):\n",
    "    # Se o modelo não for ótimo, ele é inviável\n",
    "    # ou não foi encontrada uma solução\n",
    "    if not modelo.status == OptimizationStatus.OPTIMAL:\n",
    "        return True\n",
    "\n",
    "    # Inviável\n",
    "    #if modelo.status == OptimizationStatus.INFEASIBLE:\n",
    "    #    return True\n",
    "    \n",
    "    # Não encontrou solução\n",
    "    #elif modelo.status == OptimizationStatus.NO_SOLUTION_FOUND:\n",
    "    #    return True\n",
    "    return False"
   ]
  },
  {
   "cell_type": "code",
   "execution_count": 16,
   "metadata": {
    "metadata": {}
   },
   "outputs": [],
   "source": [
    "def print_no(otimo: Model):\n",
    "    print(f\"Valor da solução  = {otimo.objective_value:.2f}\\n\")\n",
    "\n",
    "    print(\"Solução:\")\n",
    "    for v in otimo.vars:\n",
    "        print(f\"{v.name} = {v.x:.2f}\")"
   ]
  },
  {
   "cell_type": "code",
   "execution_count": 17,
   "metadata": {},
   "outputs": [],
   "source": [
    "def closest_value(array, value): \n",
    "    array = np.asarray(array)\n",
    "    \n",
    "    value_found = np.absolute(array - value)\n",
    "    value_found = value_found.argmin()\n",
    "    \n",
    "    return value_found "
   ]
  },
  {
   "cell_type": "code",
   "execution_count": 25,
   "metadata": {
    "metadata": {}
   },
   "outputs": [],
   "source": [
    "# Gera os dois nós filhos do algoritmo a partir da variável mais próxima de 0.5\n",
    "def passar_no (pai):\n",
    "    # escolhe a variável mais próxima de 0.5\n",
    "    modelo_vars = [v.x for v in pai.modelo.vars]\n",
    "    \n",
    "    var_escolhida = closest_value(modelo_vars, 0.5)\n",
    "    \n",
    "    # cria os modelos filhos\n",
    "    # e adiciona restrição para a variável escolhida\n",
    "    m1 = pai.modelo.copy()\n",
    "    m1.verbose = 0 # 'silencia' o solver\n",
    "    m1 += m1.vars[var_escolhida] == 0\n",
    "\n",
    "    m2 = pai.modelo.copy()\n",
    "    m2.verbose = 0\n",
    "    m2 += m2.vars[var_escolhida] == 1\n",
    "\n",
    "    # cria os nós filhos\n",
    "    filho1 = No(m1)\n",
    "    filho2 = No(m2)\n",
    "\n",
    "    return filho1, filho2\n"
   ]
  },
  {
   "cell_type": "code",
   "execution_count": 26,
   "metadata": {
    "metadata": {}
   },
   "outputs": [],
   "source": [
    "class Branch_and_Bound:\n",
    "    def __init__ (self, no_modelo: No):\n",
    "        self.no_modelo = no_modelo\n",
    "\n",
    "    def executar (self):\n",
    "        lim_inf = float('-inf')\n",
    "        fronteira = [self.no_modelo]\n",
    "        solucao = \"Nenhuma solução encontrada.\"\n",
    "        \n",
    "        while len(fronteira):\n",
    "            no = fronteira.pop(0)\n",
    "\n",
    "            if poda_inviabilidade(no.modelo):\n",
    "                continue\n",
    "            \n",
    "            if poda_integralidade(no.modelo):\n",
    "                if no.Z > lim_inf:\n",
    "                    lim_inf = no.Z\n",
    "                    solucao  = no.modelo\n",
    "                continue\n",
    "\n",
    "\n",
    "            if poda_limitante(lim_inf, no.Z):\n",
    "                continue\n",
    "\n",
    "            filho1, filho2 = passar_no(no)\n",
    "            fronteira.append(filho1)\n",
    "            fronteira.append(filho2)\n",
    "\n",
    "        print_no(solucao)"
   ]
  },
  {
   "cell_type": "code",
   "execution_count": 27,
   "metadata": {
    "metadata": {}
   },
   "outputs": [
    {
     "name": "stdout",
     "output_type": "stream",
     "text": [
      "Valor da solução  = 10.00\n",
      "\n",
      "Solução:\n",
      "x_0 = 0.00\n",
      "x_1 = 1.00\n",
      "x_2 = 0.00\n"
     ]
    }
   ],
   "source": [
    "modelo1 = readFile('example.txt')\n",
    "teste1 = No(modelo1)\n",
    "\n",
    "BnB = Branch_and_Bound(teste1)\n",
    "BnB.executar()"
   ]
  },
  {
   "cell_type": "code",
   "execution_count": null,
   "metadata": {},
   "outputs": [],
   "source": []
  }
 ],
 "metadata": {
  "kernelspec": {
   "display_name": "Python 3",
   "language": "python",
   "name": "python3"
  },
  "language_info": {
   "codemirror_mode": {
    "name": "ipython",
    "version": 3
   },
   "file_extension": ".py",
   "mimetype": "text/x-python",
   "name": "python",
   "nbconvert_exporter": "python",
   "pygments_lexer": "ipython3",
   "version": "3.10.12"
  }
 },
 "nbformat": 4,
 "nbformat_minor": 2
}
