{
 "cells": [
  {
   "cell_type": "code",
   "execution_count": 22,
   "metadata": {
    "metadata": {}
   },
   "outputs": [],
   "source": [
    "from mip import *"
   ]
  },
  {
   "cell_type": "code",
   "execution_count": 23,
   "metadata": {
    "metadata": {}
   },
   "outputs": [],
   "source": [
    "def readFile(filename):\n",
    "    File = open(filename, 'r')\n",
    "    lines = File.readlines()\n",
    "\n",
    "    # número de variáveis\n",
    "    n = int(lines[0].split()[0])\n",
    "    # número de restrições\n",
    "    r = int(lines[0].split()[1])\n",
    "\n",
    "    File.close()\n",
    "\n",
    "    m = Model(sense=MAXIMIZE, solver_name=CBC)\n",
    "    x = [m.add_var(var_type=CONTINUOUS, lb=0.0, ub=1.0,\n",
    "                    name=f\"x_{i}\") for i in range(n)]\n",
    "\n",
    "    obj = [float(i) for i in lines[1].split()]\n",
    "    m.objective = xsum(obj[i]*x[i] for i in range(n))\n",
    "\n",
    "\n",
    "    # coeficientes\n",
    "    for c in range (2, r+1):\n",
    "        coeficientes = []\n",
    "        for i in range(n + 1):\n",
    "            coe = float(lines[c].split()[i])\n",
    "            coeficientes.append(coe)\n",
    "            \n",
    "    m += xsum(coeficientes[j]*x[j] for j in range(n)) <= coeficientes[-1]\n",
    "\n",
    "    m.verbose = 0\n",
    "\n",
    "    return m"
   ]
  },
  {
   "cell_type": "code",
   "execution_count": 24,
   "metadata": {
    "metadata": {}
   },
   "outputs": [],
   "source": [
    "# resolve o modelo e mostra os valores das variáveis\n",
    "def solve(model):\n",
    "  status = model.optimize()\n",
    "\n",
    "  print(\"Status = \", status)\n",
    "  print(f\"Solution value  = {model.objective_value:.2f}\\n\")\n",
    "\n",
    "  print(\"Solution:\")\n",
    "  for v in model.vars:\n",
    "      print(f\"{v.name} = {v.x:.2f}\")\n",
    "\n",
    "\n",
    "# salva modelo em arquivo lp, e mostra o conteúdo\n",
    "def save(model, filename):\n",
    "  model.write(filename) # salva modelo em arquivo\n",
    "  with open(filename, \"r\") as f: # lê e exibe conteúdo do arquivo\n",
    "    print(f.read())"
   ]
  },
  {
   "cell_type": "code",
   "execution_count": 25,
   "metadata": {
    "metadata": {}
   },
   "outputs": [],
   "source": [
    "class No:\n",
    "    def __init__ (self, modelo):\n",
    "        self.modelo = modelo\n",
    "        self.modelo.verbose = 0\n",
    "        self.modelo.optimize()\n",
    "        self.Z = self.modelo.objective_value\n"
   ]
  },
  {
   "cell_type": "code",
   "execution_count": 26,
   "metadata": {
    "metadata": {}
   },
   "outputs": [],
   "source": [
    "# poda por integralidade, analisa todas as variáveis do modelo\n",
    "def poda_integralidade (modelo):\n",
    "    # Se alguma variável não for inteira, o nó é descartado\n",
    "    for v in modelo.vars:\n",
    "        if v.x % 1 != 0:\n",
    "            return False\n",
    "    return True\n",
    "\n",
    "# poda por limitante, analisa o valor da função objetivo\n",
    "def poda_limitante (lim_inf, Z):\n",
    "    # Se o valor da função objetivo for menor ou igual ao limitante inferior,\n",
    "    # qualquer nó abaixo incluindo o próprio nó é descartado,\n",
    "    # pois já há uma solução melhor encontrada\n",
    "    if Z <= lim_inf:\n",
    "        return True\n",
    "    else:\n",
    "        return False\n",
    "\n",
    "# poda por inviabilidade, analisa o status do modelo\n",
    "def poda_inviabilidade (modelo):\n",
    "    # Inviável\n",
    "    if modelo.status == OptimizationStatus.INFEASIBLE:\n",
    "        return True\n",
    "    # Não encontrou solução\n",
    "    elif modelo.status == OptimizationStatus.NO_SOLUTION_FOUND:\n",
    "        return True\n",
    "    \n",
    "    return False"
   ]
  },
  {
   "cell_type": "code",
   "execution_count": 27,
   "metadata": {
    "metadata": {}
   },
   "outputs": [],
   "source": [
    "def print_no(filho: Model):\n",
    "    print(\"Status = \", filho.status)\n",
    "    print(f\"Solution value  = {filho.objective_value:.2f}\\n\")\n",
    "\n",
    "    print(\"Solution:\")\n",
    "    for v in filho.vars:\n",
    "        print(f\"{v.name} = {v.x:.2f}\")"
   ]
  },
  {
   "cell_type": "code",
   "execution_count": 28,
   "metadata": {
    "metadata": {}
   },
   "outputs": [],
   "source": [
    "# Gera os dois nós filhos do algoritmo a partir da variável mais próxima de 0.5\n",
    "def passar_no (pai):\n",
    "    dif_abs = 1\n",
    "    for var in pai.modelo.vars:\n",
    "        if abs(0.5 - var.x) <= dif_abs:\n",
    "            dif_abs = abs(0.5 - var.x)\n",
    "            escolhida = var.name\n",
    "    \n",
    "    # cria os modelos filhos\n",
    "    m1 = pai.modelo.copy()\n",
    "    m2 = pai.modelo.copy()\n",
    "\n",
    "    # adiciona restrição para a variável escolhida\n",
    "    m1 += m1.vars[escolhida] == 0\n",
    "    m2 += m2.vars[escolhida] == 1\n",
    "\n",
    "    # cria os nós filhos\n",
    "    filho1 = No(m1)\n",
    "    filho2 = No(m2)\n",
    "\n",
    "    return filho1, filho2\n"
   ]
  },
  {
   "cell_type": "code",
   "execution_count": 29,
   "metadata": {
    "metadata": {}
   },
   "outputs": [],
   "source": [
    "class Branch_and_Bound:\n",
    "    def __init__ (self, no_modelo):\n",
    "        self.raiz = no_modelo\n",
    "\n",
    "    def solve(self):\n",
    "        lim_inf = float('-inf')\n",
    "        fronteira = [self.raiz]\n",
    "        solucao = None\n",
    "\n",
    "        while fronteira:\n",
    "            no = fronteira.pop(0)\n",
    "            if poda_integralidade(no.modelo):\n",
    "                if no.Z > lim_inf:\n",
    "                    lim_inf = no.Z\n",
    "                    solucao = no.modelo\n",
    "            \n",
    "            if poda_inviabilidade(no.modelo):\n",
    "                continue\n",
    "\n",
    "            if poda_limitante(lim_inf, no.Z):\n",
    "                continue\n",
    "\n",
    "            filho1, filho2 = passar_no(no)\n",
    "            fronteira.append(filho1)\n",
    "            fronteira.append(filho2)\n",
    "\n",
    "        print_no(solucao)"
   ]
  },
  {
   "cell_type": "code",
   "execution_count": 30,
   "metadata": {
    "metadata": {}
   },
   "outputs": [],
   "source": [
    "teste1 = No(readFile('/testes/teste1.txt'))"
   ]
  },
  {
   "cell_type": "code",
   "execution_count": 31,
   "metadata": {
    "metadata": {}
   },
   "outputs": [],
   "source": [
    "BnB = Branch_and_Bound(teste1)"
   ]
  },
  {
   "cell_type": "code",
   "execution_count": 32,
   "metadata": {
    "metadata": {}
   },
   "outputs": [
    {
     "name": "stdout",
     "output_type": "stream",
     "text": [
      "Status =  OptimizationStatus.OPTIMAL\n",
      "Solution value  = 53.00\n",
      "\n",
      "Solution:\n",
      "x_0 = 1.00\n",
      "x_1 = 1.00\n",
      "x_2 = 1.00\n",
      "x_3 = 1.00\n",
      "x_4 = 1.00\n",
      "x_5 = 1.00\n",
      "x_6 = 1.00\n"
     ]
    }
   ],
   "source": [
    "BnB.solve()\n"
   ]
  },
  {
   "cell_type": "code",
   "execution_count": null,
   "metadata": {},
   "outputs": [],
   "source": []
  }
 ],
 "metadata": {
  "kernelspec": {
   "display_name": "Python 3",
   "language": "python",
   "name": "python3"
  },
  "language_info": {
   "codemirror_mode": {
    "name": "ipython",
    "version": 3
   },
   "file_extension": ".py",
   "mimetype": "text/x-python",
   "name": "python",
   "nbconvert_exporter": "python",
   "pygments_lexer": "ipython3",
   "version": "3.10.12"
  }
 },
 "nbformat": 4,
 "nbformat_minor": 2
}
