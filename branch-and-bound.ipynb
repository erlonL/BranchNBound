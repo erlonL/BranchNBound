{
 "cells": [
  {
   "cell_type": "code",
   "execution_count": 1,
   "metadata": {
    "metadata": {}
   },
   "outputs": [],
   "source": [
    "from mip import *"
   ]
  },
  {
   "cell_type": "code",
   "execution_count": 2,
   "metadata": {},
   "outputs": [],
   "source": [
    "# resolve o modelo e mostra os valores das variáveis\n",
    "def solve(model):\n",
    "  status = model.optimize()\n",
    "\n",
    "  print(\"Status = \", status)\n",
    "  print(f\"Solution value  = {model.objective_value:.2f}\\n\")\n",
    "\n",
    "  print(\"Solution:\")\n",
    "  for v in model.vars:\n",
    "      print(f\"{v.name} = {v.x:.2f}\")\n",
    "\n",
    "\n",
    "# salva modelo em arquivo lp, e mostra o conteúdo\n",
    "def save(model, filename):\n",
    "  model.write(filename) # salva modelo em arquivo\n",
    "  with open(filename, \"r\") as f: # lê e exibe conteúdo do arquivo\n",
    "    print(f.read())"
   ]
  },
  {
   "cell_type": "code",
   "execution_count": 3,
   "metadata": {},
   "outputs": [],
   "source": [
    "def readFile(filename):\n",
    "    File = open(filename, \"r\")\n",
    "    lines = File.readlines()\n",
    "    File.close()\n",
    "    \n",
    "    # separa os arrays em '\\n'\n",
    "    lines = [lines.split() for lines in lines]\n",
    "\n",
    "    # número de variáveis\n",
    "    # número de restrições\n",
    "    num_vars, num_res = int(lines[0][0]), int(lines[0][1])\n",
    "\n",
    "    lines = lines[1:]\n",
    "\n",
    "    # coeficientes da função objetivo\n",
    "    coef_fo = lines[0]\n",
    "    coef_fo = [float(i) for i in coef_fo]\n",
    "\n",
    "    # coeficientes das restrições\n",
    "    coef_res = lines[1:]\n",
    "    coef_res = [[float(i) for i in coef_res[j]] for j in range(num_res)]\n",
    "\n",
    "    m = Model(sense=MAXIMIZE, solver_name=CBC)\n",
    "\n",
    "    # variáveis de decisão\n",
    "    x = [m.add_var(var_type=CONTINUOUS, lb=0.0, ub=1.0, name=f'x_{str(i)}') for i in range(num_vars)]\n",
    "\n",
    "    # função objetivo\n",
    "    m.objective = xsum(coef_fo[i] * x[i] for i in range(num_vars))\n",
    "\n",
    "    # restrições\n",
    "    for i in range(num_res):\n",
    "        m += xsum(coef_res[i][j] * x[j] for j in range(num_vars)) <= coef_res[i][num_vars]\n",
    "\n",
    "    # 'silencia' o solver\n",
    "    m.verbose = 0\n",
    "\n",
    "    m.optimize()\n",
    "\n",
    "\n",
    "    return m"
   ]
  },
  {
   "cell_type": "markdown",
   "metadata": {},
   "source": [
    "Utilizaremos implementação em pilha para desenvolver o projeto."
   ]
  },
  {
   "cell_type": "code",
   "execution_count": 4,
   "metadata": {
    "metadata": {}
   },
   "outputs": [],
   "source": [
    "class No:\n",
    "    def __init__ (self, modelo):\n",
    "        self.modelo = modelo\n",
    "        self.Z = self.modelo.objective_value\n",
    "\n",
    "        modelo.optimize()\n"
   ]
  },
  {
   "cell_type": "code",
   "execution_count": 5,
   "metadata": {
    "metadata": {}
   },
   "outputs": [],
   "source": [
    "def poda_integralidade (modelo):\n",
    "    # Se todas as variáveis são inteiras, o nó é viável\n",
    "    # logo, deve ser podado\n",
    "    for v in modelo.vars:\n",
    "        if v.x % 1 != 0:\n",
    "            return False\n",
    "    return True\n",
    "\n",
    "# poda por limitante, analisa o valor da função objetivo\n",
    "def poda_limitante (lim_inf, Z):\n",
    "    # Se o valor da função objetivo for menor ou igual ao limitante inferior,\n",
    "    # qualquer nó abaixo incluindo o próprio nó é descartado,\n",
    "    # pois já há uma solução melhor encontrada\n",
    "    if Z <= lim_inf:\n",
    "        return True\n",
    "    else:\n",
    "        return False\n",
    "\n",
    "# poda por inviabilidade, analisa o status do modelo\n",
    "def poda_inviabilidade (modelo):\n",
    "    # Inviável\n",
    "    if modelo.status == OptimizationStatus.INFEASIBLE:\n",
    "        return True\n",
    "    # Não encontrou solução\n",
    "    elif modelo.status == OptimizationStatus.NO_SOLUTION_FOUND:\n",
    "        return True\n",
    "    \n",
    "    return False"
   ]
  },
  {
   "cell_type": "code",
   "execution_count": 6,
   "metadata": {
    "metadata": {}
   },
   "outputs": [],
   "source": [
    "def print_no(filho: Model):\n",
    "    print(\"Status = \", filho.status)\n",
    "    print(f\"Solution value  = {filho.objective_value:.2f}\\n\")\n",
    "\n",
    "    print(\"Solution:\")\n",
    "    for v in filho.vars:\n",
    "        print(f\"{v.name} = {v.x:.2f}\")"
   ]
  },
  {
   "cell_type": "code",
   "execution_count": 7,
   "metadata": {},
   "outputs": [],
   "source": [
    "def closest_value(array, value): \n",
    "    array = np.asarray(array)\n",
    "    \n",
    "    value_found = np.absolute(array - value)\n",
    "    value_found = value_found.argmin()\n",
    "    \n",
    "    return value_found "
   ]
  },
  {
   "cell_type": "code",
   "execution_count": 8,
   "metadata": {
    "metadata": {}
   },
   "outputs": [],
   "source": [
    "# Gera os dois nós filhos do algoritmo a partir da variável mais próxima de 0.5\n",
    "def passar_no (pai):\n",
    "    # escolhe a variável mais próxima de 0.5\n",
    "    var_escolhida = pai.modelo.vars[closest_value([i.x for i in pai.modelo.vars], 0.5)].name\n",
    "\n",
    "    # cria os modelos filhos\n",
    "    m1 = pai.modelo.copy()\n",
    "    m2 = pai.modelo.copy()\n",
    "\n",
    "    # adiciona restrição para a variável escolhida\n",
    "    m1 += m1.vars[var_escolhida] == 0\n",
    "    m2 += m2.vars[var_escolhida] == 1\n",
    "\n",
    "    # cria os nós filhos\n",
    "    filho1 = No(m1)\n",
    "    filho2 = No(m2)\n",
    "\n",
    "    return filho1, filho2\n"
   ]
  },
  {
   "cell_type": "code",
   "execution_count": 13,
   "metadata": {
    "metadata": {}
   },
   "outputs": [],
   "source": [
    "class Branch_and_Bound:\n",
    "    def __init__ (self, no_modelo):\n",
    "        self.raiz = no_modelo\n",
    "\n",
    "    def solve(self):\n",
    "        lim_inf = float('-inf')\n",
    "        fronteira = [self.raiz]\n",
    "        solucao = \"Nenhuma solução encontrada.\"\n",
    "        \n",
    "        while fronteira:\n",
    "            no = fronteira[0]\n",
    "\n",
    "            if poda_integralidade(no.modelo):\n",
    "                if no.Z is not None and no.Z > lim_inf:\n",
    "                    lim_inf = no.Z\n",
    "                    solucao  = no.modelo\n",
    "                fronteira.pop(0)\n",
    "                continue\n",
    "            \n",
    "            if poda_inviabilidade(no.modelo):\n",
    "                fronteira.pop(0)\n",
    "                continue\n",
    "            \n",
    "\n",
    "            if poda_limitante(lim_inf, no.Z):\n",
    "                fronteira.pop(0)\n",
    "                continue\n",
    "\n",
    "            filho1, filho2 = passar_no(no)\n",
    "            fronteira.append(filho1)\n",
    "            fronteira.append(filho2)\n",
    "\n",
    "        print_no(solucao)"
   ]
  },
  {
   "cell_type": "code",
   "execution_count": 14,
   "metadata": {
    "metadata": {}
   },
   "outputs": [],
   "source": [
    "teste1 = No(readFile('example.txt'))"
   ]
  },
  {
   "cell_type": "code",
   "execution_count": 15,
   "metadata": {
    "metadata": {}
   },
   "outputs": [],
   "source": [
    "BnB = Branch_and_Bound(teste1)"
   ]
  },
  {
   "cell_type": "code",
   "execution_count": 16,
   "metadata": {
    "metadata": {}
   },
   "outputs": [
    {
     "ename": "KeyboardInterrupt",
     "evalue": "",
     "output_type": "error",
     "traceback": [
      "\u001b[0;31m---------------------------------------------------------------------------\u001b[0m",
      "\u001b[0;31mKeyboardInterrupt\u001b[0m                         Traceback (most recent call last)",
      "Cell \u001b[0;32mIn[16], line 1\u001b[0m\n\u001b[0;32m----> 1\u001b[0m \u001b[43mBnB\u001b[49m\u001b[38;5;241;43m.\u001b[39;49m\u001b[43msolve\u001b[49m\u001b[43m(\u001b[49m\u001b[43m)\u001b[49m\n",
      "Cell \u001b[0;32mIn[13], line 29\u001b[0m, in \u001b[0;36mBranch_and_Bound.solve\u001b[0;34m(self)\u001b[0m\n\u001b[1;32m     26\u001b[0m     fronteira\u001b[38;5;241m.\u001b[39mpop(\u001b[38;5;241m0\u001b[39m)\n\u001b[1;32m     27\u001b[0m     \u001b[38;5;28;01mcontinue\u001b[39;00m\n\u001b[0;32m---> 29\u001b[0m filho1, filho2 \u001b[38;5;241m=\u001b[39m \u001b[43mpassar_no\u001b[49m\u001b[43m(\u001b[49m\u001b[43mno\u001b[49m\u001b[43m)\u001b[49m\n\u001b[1;32m     30\u001b[0m fronteira\u001b[38;5;241m.\u001b[39mappend(filho1)\n\u001b[1;32m     31\u001b[0m fronteira\u001b[38;5;241m.\u001b[39mappend(filho2)\n",
      "Cell \u001b[0;32mIn[8], line 7\u001b[0m, in \u001b[0;36mpassar_no\u001b[0;34m(pai)\u001b[0m\n\u001b[1;32m      4\u001b[0m var_escolhidas \u001b[38;5;241m=\u001b[39m pai\u001b[38;5;241m.\u001b[39mmodelo\u001b[38;5;241m.\u001b[39mvars[closest_value([i\u001b[38;5;241m.\u001b[39mx \u001b[38;5;28;01mfor\u001b[39;00m i \u001b[38;5;129;01min\u001b[39;00m pai\u001b[38;5;241m.\u001b[39mmodelo\u001b[38;5;241m.\u001b[39mvars], \u001b[38;5;241m0.5\u001b[39m)]\n\u001b[1;32m      6\u001b[0m \u001b[38;5;66;03m# cria os modelos filhos\u001b[39;00m\n\u001b[0;32m----> 7\u001b[0m m1 \u001b[38;5;241m=\u001b[39m \u001b[43mpai\u001b[49m\u001b[38;5;241;43m.\u001b[39;49m\u001b[43mmodelo\u001b[49m\u001b[38;5;241;43m.\u001b[39;49m\u001b[43mcopy\u001b[49m\u001b[43m(\u001b[49m\u001b[43m)\u001b[49m\n\u001b[1;32m      8\u001b[0m m2 \u001b[38;5;241m=\u001b[39m pai\u001b[38;5;241m.\u001b[39mmodelo\u001b[38;5;241m.\u001b[39mcopy()\n\u001b[1;32m     10\u001b[0m \u001b[38;5;66;03m# adiciona restrição para a variável escolhida\u001b[39;00m\n",
      "File \u001b[0;32m~/.local/lib/python3.10/site-packages/mip/model.py:448\u001b[0m, in \u001b[0;36mModel.copy\u001b[0;34m(self, solver_name)\u001b[0m\n\u001b[1;32m    446\u001b[0m     \u001b[38;5;28;01mfor\u001b[39;00m (var, value) \u001b[38;5;129;01min\u001b[39;00m orig_expr\u001b[38;5;241m.\u001b[39mexpr\u001b[38;5;241m.\u001b[39mitems():\n\u001b[1;32m    447\u001b[0m         expr\u001b[38;5;241m.\u001b[39madd_term(\u001b[38;5;28mself\u001b[39m\u001b[38;5;241m.\u001b[39mvars[var\u001b[38;5;241m.\u001b[39midx], value)\n\u001b[0;32m--> 448\u001b[0m     \u001b[43mcopy\u001b[49m\u001b[38;5;241;43m.\u001b[39;49m\u001b[43madd_constr\u001b[49m\u001b[43m(\u001b[49m\u001b[43mlin_expr\u001b[49m\u001b[38;5;241;43m=\u001b[39;49m\u001b[43mexpr\u001b[49m\u001b[43m,\u001b[49m\u001b[43m \u001b[49m\u001b[43mname\u001b[49m\u001b[38;5;241;43m=\u001b[39;49m\u001b[43mc\u001b[49m\u001b[38;5;241;43m.\u001b[39;49m\u001b[43mname\u001b[49m\u001b[43m,\u001b[49m\u001b[43m \u001b[49m\u001b[43mpriority\u001b[49m\u001b[38;5;241;43m=\u001b[39;49m\u001b[43mpriority\u001b[49m\u001b[43m)\u001b[49m\n\u001b[1;32m    450\u001b[0m \u001b[38;5;66;03m# setting objective function\"s constant\u001b[39;00m\n\u001b[1;32m    451\u001b[0m copy\u001b[38;5;241m.\u001b[39mobjective_const \u001b[38;5;241m=\u001b[39m \u001b[38;5;28mself\u001b[39m\u001b[38;5;241m.\u001b[39mobjective_const\n",
      "File \u001b[0;32m~/.local/lib/python3.10/site-packages/mip/model.py:339\u001b[0m, in \u001b[0;36mModel.add_constr\u001b[0;34m(self, lin_expr, name, priority)\u001b[0m\n\u001b[1;32m    331\u001b[0m     \u001b[38;5;28;01mraise\u001b[39;00m mip\u001b[38;5;241m.\u001b[39mInvalidLinExpr(\n\u001b[1;32m    332\u001b[0m         \u001b[38;5;124m\"\u001b[39m\u001b[38;5;124mA boolean (true/false) cannot be used as a constraint.\u001b[39m\u001b[38;5;124m\"\u001b[39m\n\u001b[1;32m    333\u001b[0m     )\n\u001b[1;32m    334\u001b[0m \u001b[38;5;66;03m# TODO: some tests use empty linear constraints, which ideally should not happen\u001b[39;00m\n\u001b[1;32m    335\u001b[0m \u001b[38;5;66;03m# if len(lin_expr) == 0:\u001b[39;00m\n\u001b[1;32m    336\u001b[0m \u001b[38;5;66;03m#     raise mip.InvalidLinExpr(\u001b[39;00m\n\u001b[1;32m    337\u001b[0m \u001b[38;5;66;03m#         \"An empty linear expression cannot be used as a constraint.\"\u001b[39;00m\n\u001b[1;32m    338\u001b[0m \u001b[38;5;66;03m#     )\u001b[39;00m\n\u001b[0;32m--> 339\u001b[0m \u001b[38;5;28;01mreturn\u001b[39;00m \u001b[38;5;28;43mself\u001b[39;49m\u001b[38;5;241;43m.\u001b[39;49m\u001b[43mconstrs\u001b[49m\u001b[38;5;241;43m.\u001b[39;49m\u001b[43madd\u001b[49m\u001b[43m(\u001b[49m\u001b[43mlin_expr\u001b[49m\u001b[43m,\u001b[49m\u001b[43m \u001b[49m\u001b[43mname\u001b[49m\u001b[43m,\u001b[49m\u001b[43m \u001b[49m\u001b[43mpriority\u001b[49m\u001b[43m)\u001b[49m\n",
      "File \u001b[0;32m~/.local/lib/python3.10/site-packages/mip/lists.py:153\u001b[0m, in \u001b[0;36mConstrList.add\u001b[0;34m(self, lin_expr, name, priority)\u001b[0m\n\u001b[1;32m    151\u001b[0m     name \u001b[38;5;241m=\u001b[39m \u001b[38;5;124m\"\u001b[39m\u001b[38;5;124mconstr(\u001b[39m\u001b[38;5;132;01m{}\u001b[39;00m\u001b[38;5;124m)\u001b[39m\u001b[38;5;124m\"\u001b[39m\u001b[38;5;241m.\u001b[39mformat(\u001b[38;5;28mlen\u001b[39m(\u001b[38;5;28mself\u001b[39m\u001b[38;5;241m.\u001b[39m__constrs))\n\u001b[1;32m    152\u001b[0m new_constr \u001b[38;5;241m=\u001b[39m mip\u001b[38;5;241m.\u001b[39mConstr(\u001b[38;5;28mself\u001b[39m\u001b[38;5;241m.\u001b[39m__model, \u001b[38;5;28mlen\u001b[39m(\u001b[38;5;28mself\u001b[39m\u001b[38;5;241m.\u001b[39m__constrs), priority\u001b[38;5;241m=\u001b[39mpriority)\n\u001b[0;32m--> 153\u001b[0m \u001b[38;5;28;43mself\u001b[39;49m\u001b[38;5;241;43m.\u001b[39;49m\u001b[43m__model\u001b[49m\u001b[38;5;241;43m.\u001b[39;49m\u001b[43msolver\u001b[49m\u001b[38;5;241;43m.\u001b[39;49m\u001b[43madd_constr\u001b[49m\u001b[43m(\u001b[49m\u001b[43mlin_expr\u001b[49m\u001b[43m,\u001b[49m\u001b[43m \u001b[49m\u001b[43mname\u001b[49m\u001b[43m)\u001b[49m\n\u001b[1;32m    154\u001b[0m \u001b[38;5;28mself\u001b[39m\u001b[38;5;241m.\u001b[39m__constrs\u001b[38;5;241m.\u001b[39mappend(new_constr)\n\u001b[1;32m    155\u001b[0m \u001b[38;5;28;01mreturn\u001b[39;00m new_constr\n",
      "File \u001b[0;32m~/.local/lib/python3.10/site-packages/mip/cbc.py:1424\u001b[0m, in \u001b[0;36mSolverCbc.add_constr\u001b[0;34m(self, lin_expr, name)\u001b[0m\n\u001b[1;32m   1421\u001b[0m \u001b[38;5;28mself\u001b[39m\u001b[38;5;241m.\u001b[39mdvec \u001b[38;5;241m=\u001b[39m [coef \u001b[38;5;28;01mfor\u001b[39;00m coef \u001b[38;5;129;01min\u001b[39;00m lin_expr\u001b[38;5;241m.\u001b[39mexpr\u001b[38;5;241m.\u001b[39mvalues()]\n\u001b[1;32m   1423\u001b[0m \u001b[38;5;66;03m# constraint sense and rhs\u001b[39;00m\n\u001b[0;32m-> 1424\u001b[0m sense \u001b[38;5;241m=\u001b[39m \u001b[43mlin_expr\u001b[49m\u001b[38;5;241;43m.\u001b[39;49m\u001b[43msense\u001b[49m\u001b[38;5;241m.\u001b[39mencode(\u001b[38;5;124m\"\u001b[39m\u001b[38;5;124mutf-8\u001b[39m\u001b[38;5;124m\"\u001b[39m)\n\u001b[1;32m   1425\u001b[0m rhs \u001b[38;5;241m=\u001b[39m \u001b[38;5;241m-\u001b[39mlin_expr\u001b[38;5;241m.\u001b[39mconst\n\u001b[1;32m   1427\u001b[0m namestr \u001b[38;5;241m=\u001b[39m name\u001b[38;5;241m.\u001b[39mencode(\u001b[38;5;124m\"\u001b[39m\u001b[38;5;124mutf-8\u001b[39m\u001b[38;5;124m\"\u001b[39m)\n",
      "File \u001b[0;32m~/.local/lib/python3.10/site-packages/mip/entities.py:338\u001b[0m, in \u001b[0;36mLinExpr.sense\u001b[0;34m(self)\u001b[0m\n\u001b[1;32m    329\u001b[0m \u001b[38;5;250m    \u001b[39m\u001b[38;5;124;03m\"\"\"the non-constant part of the linear expression\u001b[39;00m\n\u001b[1;32m    330\u001b[0m \n\u001b[1;32m    331\u001b[0m \u001b[38;5;124;03m    Dictionary with pairs: (variable, coefficient) where coefficient\u001b[39;00m\n\u001b[0;32m   (...)\u001b[0m\n\u001b[1;32m    334\u001b[0m \u001b[38;5;124;03m    :rtype: Dict[mip.Var, numbers.Real]\u001b[39;00m\n\u001b[1;32m    335\u001b[0m \u001b[38;5;124;03m    \"\"\"\u001b[39;00m\n\u001b[1;32m    336\u001b[0m     \u001b[38;5;28;01mreturn\u001b[39;00m \u001b[38;5;28mself\u001b[39m\u001b[38;5;241m.\u001b[39m__expr\n\u001b[0;32m--> 338\u001b[0m \u001b[38;5;129m@property\u001b[39m\n\u001b[1;32m    339\u001b[0m \u001b[38;5;28;01mdef\u001b[39;00m \u001b[38;5;21msense\u001b[39m(\u001b[38;5;28mself\u001b[39m) \u001b[38;5;241m-\u001b[39m\u001b[38;5;241m>\u001b[39m \u001b[38;5;28mstr\u001b[39m:\n\u001b[1;32m    340\u001b[0m \u001b[38;5;250m    \u001b[39m\u001b[38;5;124;03m\"\"\"sense of the linear expression\u001b[39;00m\n\u001b[1;32m    341\u001b[0m \n\u001b[1;32m    342\u001b[0m \u001b[38;5;124;03m    sense can be EQUAL(\"=\"), LESS_OR_EQUAL(\"<\"), GREATER_OR_EQUAL(\">\") or\u001b[39;00m\n\u001b[1;32m    343\u001b[0m \u001b[38;5;124;03m    empty (\"\") if this is an affine expression, such as the objective\u001b[39;00m\n\u001b[1;32m    344\u001b[0m \u001b[38;5;124;03m    function\u001b[39;00m\n\u001b[1;32m    345\u001b[0m \u001b[38;5;124;03m    \"\"\"\u001b[39;00m\n\u001b[1;32m    346\u001b[0m     \u001b[38;5;28;01mreturn\u001b[39;00m \u001b[38;5;28mself\u001b[39m\u001b[38;5;241m.\u001b[39m__sense\n",
      "\u001b[0;31mKeyboardInterrupt\u001b[0m: "
     ]
    },
    {
     "ename": "",
     "evalue": "",
     "output_type": "error",
     "traceback": [
      "\u001b[1;31mO Kernel deu pane ao executar o código na célula atual ou em uma célula anterior. \n",
      "\u001b[1;31mAnalise o código nas células para identificar uma possível causa da pane. \n",
      "\u001b[1;31mClique <a href='https://aka.ms/vscodeJupyterKernelCrash'>aqui</a> para obter mais informações. \n",
      "\u001b[1;31mConsulte Jupyter <a href='command:jupyter.viewOutput'>log</a> para obter mais detalhes."
     ]
    }
   ],
   "source": [
    "BnB.solve()\n"
   ]
  },
  {
   "cell_type": "code",
   "execution_count": null,
   "metadata": {},
   "outputs": [],
   "source": []
  }
 ],
 "metadata": {
  "kernelspec": {
   "display_name": "Python 3",
   "language": "python",
   "name": "python3"
  },
  "language_info": {
   "codemirror_mode": {
    "name": "ipython",
    "version": 3
   },
   "file_extension": ".py",
   "mimetype": "text/x-python",
   "name": "python",
   "nbconvert_exporter": "python",
   "pygments_lexer": "ipython3",
   "version": "3.10.12"
  }
 },
 "nbformat": 4,
 "nbformat_minor": 2
}
