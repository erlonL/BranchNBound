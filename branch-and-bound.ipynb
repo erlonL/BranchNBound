{
 "cells": [
  {
   "cell_type": "code",
   "execution_count": 380,
   "metadata": {
    "metadata": {}
   },
   "outputs": [],
   "source": [
    "from mip import (CBC, CONTINUOUS, MAXIMIZE, Model, xsum, OptimizationStatus)\n",
    "import numpy as np"
   ]
  },
  {
   "cell_type": "code",
   "execution_count": 396,
   "metadata": {},
   "outputs": [],
   "source": [
    "def readFile(filename):\n",
    "    File = open(filename, \"r\")\n",
    "    lines = File.readlines()\n",
    "    File.close()\n",
    "    \n",
    "    # separa os arrays em '\\n'\n",
    "    lines = [lines.split() for lines in lines]\n",
    "\n",
    "    # número de variáveis\n",
    "    # número de restrições\n",
    "    num_vars, num_res = int(lines[0][0]), int(lines[0][1])\n",
    "\n",
    "    lines = lines[1:]\n",
    "\n",
    "    # coeficientes da função objetivo\n",
    "    coef_fo = lines[0]\n",
    "    coef_fo = [float(i) for i in coef_fo]\n",
    "\n",
    "    # coeficientes das restrições\n",
    "    coef_restantes = lines[1:]\n",
    "    coef_restantes = [[float(i) for i in coef_restantes[j]] for j in range(num_res)]\n",
    "\n",
    "    coef_left = [coef_restantes[j][:-1] for j in range(num_res)]\n",
    "\n",
    "    coef_right = [coef_restantes[j][-1] for j in range(num_res)]\n",
    "\n",
    "\n",
    "    m = Model(sense=MAXIMIZE, solver_name=CBC)\n",
    "\n",
    "    # variáveis de decisão\n",
    "    x = [m.add_var(var_type=CONTINUOUS, lb=0.0, ub=1.0, name=\"x_\"+str(i)) for i in range(num_vars)]\n",
    "\n",
    "    # função objetivo\n",
    "    m.objective = xsum(coef_fo[i] * x[i] for i in range(num_vars))\n",
    "\n",
    "      #cria as restrições\n",
    "      #model += xsum(coefientes[i]*x[i] for i in range(num_vars)) <= coefientes[-1] \n",
    "\n",
    "    # restrições\n",
    "    for i in range(num_res):\n",
    "        m += xsum(coef_left[i][j] * x[j] for j in range(num_vars)) <= coef_right[i]\n",
    "    # 'silencia' o solver\n",
    "    m.verbose = 0\n",
    "\n",
    "    return m"
   ]
  },
  {
   "cell_type": "code",
   "execution_count": 397,
   "metadata": {},
   "outputs": [],
   "source": [
    "m = readFile('example.txt')"
   ]
  },
  {
   "cell_type": "markdown",
   "metadata": {},
   "source": [
    "Utilizaremos implementação em pilha para desenvolver o projeto."
   ]
  },
  {
   "cell_type": "code",
   "execution_count": 398,
   "metadata": {
    "metadata": {}
   },
   "outputs": [],
   "source": [
    "class No:\n",
    "    def __init__ (self, _modelo):\n",
    "        _modelo.optimize()\n",
    "        _modelo.verbose = 0\n",
    "        self.modelo = _modelo.copy()\n",
    "        self.Z = self.modelo.objective_value\n",
    "        self.vars = self.modelo.vars\n"
   ]
  },
  {
   "cell_type": "code",
   "execution_count": 399,
   "metadata": {
    "metadata": {}
   },
   "outputs": [],
   "source": [
    "def poda_integralidade (modelo: Model):\n",
    "    # Se todas as variáveis são inteiras, o nó é viável\n",
    "    # logo, deve ser podado\n",
    "    if all(np.isclose(var.x, np.round(var.x)) for var in modelo.vars):\n",
    "        return True\n",
    "    else:\n",
    "        return False\n",
    "\n",
    "# poda por limitante, analisa o valor da função objetivo\n",
    "def poda_limitante (lim_inf: float, Z: int):\n",
    "    # Se o valor da função objetivo for menor ou igual ao limitante inferior,\n",
    "    # qualquer nó abaixo incluindo o próprio nó é descartado,\n",
    "    # pois já há uma solução melhor encontrada\n",
    "    if Z is not None and Z <= lim_inf:\n",
    "        return True\n",
    "    else:\n",
    "        return False\n",
    "\n",
    "# poda por inviabilidade, analisa o status do modelo\n",
    "def poda_inviabilidade (modelo: Model):\n",
    "    if not modelo.status == OptimizationStatus.OPTIMAL:\n",
    "        return True\n",
    "    # Inviável\n",
    "    #if modelo.status == OptimizationStatus.INFEASIBLE:\n",
    "    #    return True\n",
    "    # Não encontrou solução\n",
    "    #elif modelo.status == OptimizationStatus.NO_SOLUTION_FOUND:\n",
    "    #    return True\n",
    "    \n",
    "    return False"
   ]
  },
  {
   "cell_type": "code",
   "execution_count": 400,
   "metadata": {
    "metadata": {}
   },
   "outputs": [],
   "source": [
    "def print_no(filho: Model):\n",
    "    print(\"Status = \", filho.status)\n",
    "    print(f\"Solution value  = {filho.objective_value:.2f}\\n\")\n",
    "\n",
    "    print(\"Solution:\")\n",
    "    for v in filho.vars:\n",
    "        print(f\"{v.name} = {v.x:.2f}\")"
   ]
  },
  {
   "cell_type": "code",
   "execution_count": 401,
   "metadata": {},
   "outputs": [],
   "source": [
    "def closest_value(array, value): \n",
    "    array = np.asarray(array)\n",
    "    \n",
    "    value_found = np.absolute(array - value)\n",
    "    value_found = value_found.argmin()\n",
    "    \n",
    "    return value_found "
   ]
  },
  {
   "cell_type": "code",
   "execution_count": 402,
   "metadata": {
    "metadata": {}
   },
   "outputs": [],
   "source": [
    "# Gera os dois nós filhos do algoritmo a partir da variável mais próxima de 0.5\n",
    "def passar_no (pai):\n",
    "    # escolhe a variável mais próxima de 0.5\n",
    "    dif_abs = 1\n",
    "    for var in pai.modelo.vars:\n",
    "        if abs (0.5 - var.x) <= dif_abs:\n",
    "            dif_abs = abs (0.5 - var.x)\n",
    "            var_escolhida = var.name\n",
    "    \n",
    "    # cria os modelos filhos\n",
    "    # e adiciona restrição para a variável escolhida\n",
    "    m1 = pai.modelo.copy()\n",
    "    m1.verbose = 0\n",
    "    m1 += m1.vars[var_escolhida] == 0\n",
    "\n",
    "    m2 = pai.modelo.copy()\n",
    "    m2.verbose = 0\n",
    "    m2 += m2.vars[var_escolhida] == 1\n",
    "\n",
    "    # cria os nós filhos\n",
    "    filho1 = No(m1)\n",
    "    filho2 = No(m2)\n",
    "\n",
    "    return filho1, filho2\n"
   ]
  },
  {
   "cell_type": "code",
   "execution_count": 403,
   "metadata": {
    "metadata": {}
   },
   "outputs": [],
   "source": [
    "class Branch_and_Bound:\n",
    "    def __init__ (self, no_modelo):\n",
    "        self.raiz = no_modelo\n",
    "\n",
    "    def execute(self):\n",
    "        lim_inf = float('-inf')\n",
    "        fronteira = [self.raiz]\n",
    "        solucao = \"Nenhuma solução encontrada.\"\n",
    "        \n",
    "        while len(fronteira):\n",
    "            no = fronteira[0]\n",
    "\n",
    "            if poda_integralidade(no.modelo):\n",
    "                if no.Z is not None and no.Z > lim_inf:\n",
    "                    lim_inf = no.Z\n",
    "                    solucao  = no.modelo\n",
    "                fronteira.pop(0)\n",
    "                continue\n",
    "\n",
    "            if poda_inviabilidade(no.modelo):\n",
    "                fronteira.pop(0)\n",
    "                continue\n",
    "\n",
    "            if poda_limitante(lim_inf, no.Z):\n",
    "                fronteira.pop(0)\n",
    "                continue\n",
    "\n",
    "            filho1, filho2 = passar_no(no)\n",
    "            fronteira.append(filho1)\n",
    "            fronteira.append(filho2)\n",
    "            del fronteira[0]\n",
    "\n",
    "        print_no(solucao)"
   ]
  },
  {
   "cell_type": "code",
   "execution_count": 404,
   "metadata": {
    "metadata": {}
   },
   "outputs": [],
   "source": [
    "modelo1 = readFile('example.txt')\n",
    "teste1 = No(modelo1)"
   ]
  },
  {
   "cell_type": "code",
   "execution_count": 405,
   "metadata": {
    "metadata": {}
   },
   "outputs": [],
   "source": [
    "BnB = Branch_and_Bound(teste1)"
   ]
  },
  {
   "cell_type": "code",
   "execution_count": 406,
   "metadata": {
    "metadata": {}
   },
   "outputs": [
    {
     "ename": "TypeError",
     "evalue": "type NoneType doesn't define __round__ method",
     "output_type": "error",
     "traceback": [
      "\u001b[0;31m---------------------------------------------------------------------------\u001b[0m",
      "\u001b[0;31mTypeError\u001b[0m                                 Traceback (most recent call last)",
      "Cell \u001b[0;32mIn[406], line 1\u001b[0m\n\u001b[0;32m----> 1\u001b[0m \u001b[43mBnB\u001b[49m\u001b[38;5;241;43m.\u001b[39;49m\u001b[43mexecute\u001b[49m\u001b[43m(\u001b[49m\u001b[43m)\u001b[49m\n",
      "Cell \u001b[0;32mIn[403], line 13\u001b[0m, in \u001b[0;36mBranch_and_Bound.execute\u001b[0;34m(self)\u001b[0m\n\u001b[1;32m     10\u001b[0m \u001b[38;5;28;01mwhile\u001b[39;00m \u001b[38;5;28mlen\u001b[39m(fronteira):\n\u001b[1;32m     11\u001b[0m     no \u001b[38;5;241m=\u001b[39m fronteira[\u001b[38;5;241m0\u001b[39m]\n\u001b[0;32m---> 13\u001b[0m     \u001b[38;5;28;01mif\u001b[39;00m \u001b[43mpoda_integralidade\u001b[49m\u001b[43m(\u001b[49m\u001b[43mno\u001b[49m\u001b[38;5;241;43m.\u001b[39;49m\u001b[43mmodelo\u001b[49m\u001b[43m)\u001b[49m:\n\u001b[1;32m     14\u001b[0m         \u001b[38;5;28;01mif\u001b[39;00m no\u001b[38;5;241m.\u001b[39mZ \u001b[38;5;129;01mis\u001b[39;00m \u001b[38;5;129;01mnot\u001b[39;00m \u001b[38;5;28;01mNone\u001b[39;00m \u001b[38;5;129;01mand\u001b[39;00m no\u001b[38;5;241m.\u001b[39mZ \u001b[38;5;241m>\u001b[39m lim_inf:\n\u001b[1;32m     15\u001b[0m             lim_inf \u001b[38;5;241m=\u001b[39m no\u001b[38;5;241m.\u001b[39mZ\n",
      "Cell \u001b[0;32mIn[399], line 4\u001b[0m, in \u001b[0;36mpoda_integralidade\u001b[0;34m(modelo)\u001b[0m\n\u001b[1;32m      1\u001b[0m \u001b[38;5;28;01mdef\u001b[39;00m \u001b[38;5;21mpoda_integralidade\u001b[39m (modelo: Model):\n\u001b[1;32m      2\u001b[0m     \u001b[38;5;66;03m# Se todas as variáveis são inteiras, o nó é viável\u001b[39;00m\n\u001b[1;32m      3\u001b[0m     \u001b[38;5;66;03m# logo, deve ser podado\u001b[39;00m\n\u001b[0;32m----> 4\u001b[0m     \u001b[38;5;28;01mif\u001b[39;00m \u001b[38;5;28;43mall\u001b[39;49m\u001b[43m(\u001b[49m\u001b[43mnp\u001b[49m\u001b[38;5;241;43m.\u001b[39;49m\u001b[43misclose\u001b[49m\u001b[43m(\u001b[49m\u001b[43mvar\u001b[49m\u001b[38;5;241;43m.\u001b[39;49m\u001b[43mx\u001b[49m\u001b[43m,\u001b[49m\u001b[43m \u001b[49m\u001b[38;5;28;43mround\u001b[39;49m\u001b[43m(\u001b[49m\u001b[43mvar\u001b[49m\u001b[38;5;241;43m.\u001b[39;49m\u001b[43mx\u001b[49m\u001b[43m)\u001b[49m\u001b[43m)\u001b[49m\u001b[43m \u001b[49m\u001b[38;5;28;43;01mfor\u001b[39;49;00m\u001b[43m \u001b[49m\u001b[43mvar\u001b[49m\u001b[43m \u001b[49m\u001b[38;5;129;43;01min\u001b[39;49;00m\u001b[43m \u001b[49m\u001b[43mmodelo\u001b[49m\u001b[38;5;241;43m.\u001b[39;49m\u001b[43mvars\u001b[49m\u001b[43m)\u001b[49m:\n\u001b[1;32m      5\u001b[0m         \u001b[38;5;28;01mreturn\u001b[39;00m \u001b[38;5;28;01mTrue\u001b[39;00m\n\u001b[1;32m      6\u001b[0m     \u001b[38;5;28;01melse\u001b[39;00m:\n",
      "Cell \u001b[0;32mIn[399], line 4\u001b[0m, in \u001b[0;36m<genexpr>\u001b[0;34m(.0)\u001b[0m\n\u001b[1;32m      1\u001b[0m \u001b[38;5;28;01mdef\u001b[39;00m \u001b[38;5;21mpoda_integralidade\u001b[39m (modelo: Model):\n\u001b[1;32m      2\u001b[0m     \u001b[38;5;66;03m# Se todas as variáveis são inteiras, o nó é viável\u001b[39;00m\n\u001b[1;32m      3\u001b[0m     \u001b[38;5;66;03m# logo, deve ser podado\u001b[39;00m\n\u001b[0;32m----> 4\u001b[0m     \u001b[38;5;28;01mif\u001b[39;00m \u001b[38;5;28mall\u001b[39m(np\u001b[38;5;241m.\u001b[39misclose(var\u001b[38;5;241m.\u001b[39mx, \u001b[38;5;28;43mround\u001b[39;49m\u001b[43m(\u001b[49m\u001b[43mvar\u001b[49m\u001b[38;5;241;43m.\u001b[39;49m\u001b[43mx\u001b[49m\u001b[43m)\u001b[49m) \u001b[38;5;28;01mfor\u001b[39;00m var \u001b[38;5;129;01min\u001b[39;00m modelo\u001b[38;5;241m.\u001b[39mvars):\n\u001b[1;32m      5\u001b[0m         \u001b[38;5;28;01mreturn\u001b[39;00m \u001b[38;5;28;01mTrue\u001b[39;00m\n\u001b[1;32m      6\u001b[0m     \u001b[38;5;28;01melse\u001b[39;00m:\n",
      "\u001b[0;31mTypeError\u001b[0m: type NoneType doesn't define __round__ method"
     ]
    }
   ],
   "source": [
    "BnB.execute()"
   ]
  },
  {
   "cell_type": "code",
   "execution_count": null,
   "metadata": {},
   "outputs": [],
   "source": []
  }
 ],
 "metadata": {
  "kernelspec": {
   "display_name": "Python 3",
   "language": "python",
   "name": "python3"
  },
  "language_info": {
   "codemirror_mode": {
    "name": "ipython",
    "version": 3
   },
   "file_extension": ".py",
   "mimetype": "text/x-python",
   "name": "python",
   "nbconvert_exporter": "python",
   "pygments_lexer": "ipython3",
   "version": "3.10.12"
  }
 },
 "nbformat": 4,
 "nbformat_minor": 2
}
